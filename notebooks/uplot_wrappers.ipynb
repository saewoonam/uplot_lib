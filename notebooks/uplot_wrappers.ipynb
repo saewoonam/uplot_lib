{
 "cells": [
  {
   "cell_type": "code",
   "execution_count": 6,
   "metadata": {},
   "outputs": [],
   "source": [
    "``"
   ]
  },
  {
   "cell_type": "code",
   "execution_count": null,
   "metadata": {},
   "outputs": [],
   "source": [
    "def uplot_data_orig(data=[], labels=[], html=False):\n",
    "    h = '''\n",
    "        <link rel=\"stylesheet\" href=\"https://leeoniya.github.io/uPlot/dist/uPlot.min.css\">\n",
    "        <script src=\"https://leeoniya.github.io/uPlot/dist/uPlot.iife.js\"></script>\n",
    "        <div id=\"plot\"></div>\n",
    "\n",
    "        <script>\n",
    "        colors = [\"lavender\",\n",
    "            \"thistle\",\n",
    "            \"plum\",\n",
    "            \"violet\",\n",
    "            \"orchid\",\n",
    "            \"fuchsia\",\n",
    "            \"magenta\",\n",
    "            \"mediumorchid\",\n",
    "            \"mediumpurple\",\n",
    "            \"blueviolet\",\n",
    "            \"darkviolet\",\n",
    "            \"darkorchid\",\n",
    "            \"darkmagenta\",\n",
    "            \"purple\",\n",
    "            \"indigo\"\n",
    "            ]\n",
    "\n",
    "        data = {{data}}\n",
    "        labels = {{labels}}\n",
    "        s = [{\"label\":\"x\"}]\n",
    "          for (let i=0; i<data.length-1; i++) {\n",
    "            s.push({\n",
    "              spanGaps: true,\n",
    "              \"label\": labels[i],\n",
    "              stroke: colors[9-i],\n",
    "              paths: u => null,\n",
    "              points: { space: 0, size: 2},\n",
    "              /* width: 2 */\n",
    "            })\n",
    "          }\n",
    "        o = {\n",
    "            title: \"\",\n",
    "            width: 800,\n",
    "            height: 300,\n",
    "            scales: {\n",
    "                x: {\n",
    "                    time: false,\n",
    "                },\n",
    "                \"y\": {\n",
    "                    auto: true,\n",
    "                },\n",
    "            },\n",
    "\n",
    "        };\n",
    "        o.series = s;\n",
    "        u2 = new uPlot(o, data, document.getElementById(\"plot\"))\n",
    "        </script>\n",
    "'''\n",
    "    if len(labels)!=(len(data)-1):\n",
    "        labels = [f'y{i}' for i in range(len(data)-1)]\n",
    "    h2 = Template(h).render(data=data, labels=labels)\n",
    "    h2 = h2.replace('\"', \"'\")\n",
    "    # print(h2)\n",
    "    iframe = '''<iframe srcdoc=\"{source}\" src=\"\" width=\"{w}\" height=\"{h}\" frameborder=\"0\" sandbox=\"allow-scripts\">\n",
    "    </iframe>'''\n",
    "    if html:\n",
    "        return h2\n",
    "    else:\n",
    "        # return HTML(h2)\n",
    "        return HTML(iframe.format(source=h2, w=800, h=400))\n"
   ]
  },
  {
   "cell_type": "code",
   "execution_count": 86,
   "metadata": {},
   "outputs": [],
   "source": [
    "def uplot_data(data=[], options='{}', html=False):\n",
    "    h = '''\n",
    "        <link rel=\"stylesheet\" href=\"https://leeoniya.github.io/uPlot/dist/uPlot.min.css\">\n",
    "        <script src=\"https://leeoniya.github.io/uPlot/dist/uPlot.iife.js\"></script>\n",
    "        \n",
    "        <div id=\"plot\"></div>\n",
    "\n",
    "        <script>\n",
    "        data = {{data}}\n",
    "        options = {{options}};\n",
    "        for (i=1; i<data.length; i++) {\n",
    "            options['series'][i][\"paths\"] = u => null;\n",
    "        }\n",
    "        u2 = new uPlot(options, data, document.getElementById(\"plot\"))\n",
    "        </script>\n",
    "'''\n",
    "    h2 = Template(h).render(data=data, options=options)\n",
    "    h2 = h2.replace('\"', \"'\")\n",
    "    # print(h2)\n",
    "    iframe = '''<iframe srcdoc=\"{source}\" src=\"\" \n",
    "                width={w} height=\"{h}\" frameborder=\"0\" sandbox=\"allow-scripts\">\n",
    "                </iframe>'''\n",
    "    if html:\n",
    "        return h2\n",
    "    else:\n",
    "        # return HTML(h2)\n",
    "        return HTML(iframe.format(source=h2, w=800, h=400))\n"
   ]
  },
  {
   "cell_type": "code",
   "execution_count": 53,
   "metadata": {},
   "outputs": [
    {
     "data": {
      "text/plain": [
       "{'spanGaps': 'True'}"
      ]
     },
     "execution_count": 53,
     "metadata": {},
     "output_type": "execute_result"
    }
   ],
   "source": [
    "j = '{\"spanGaps\": \"True\"}'\n",
    "#               stroke: colors[9-i],\n",
    "#               paths: u => null,\n",
    "#               points: { space: 0, size: 2},\n",
    "#               /* width: 2 */\n",
    "#             }'''\n",
    "json.loads(j)"
   ]
  },
  {
   "cell_type": "code",
   "execution_count": 94,
   "metadata": {},
   "outputs": [],
   "source": [
    "options = '''\n",
    "        {\n",
    "            \"title\": \"\",\n",
    "            \"width\": 750,\n",
    "            \"height\": 300,\n",
    "            \"scales\": {\n",
    "                \"x\": {\n",
    "                    \"time\": false,\n",
    "                },\n",
    "                \"y\": {\n",
    "                    \"auto\": true,\n",
    "                },\n",
    "            },\n",
    "            \"series\": [\n",
    "                {\"label\":\"x\"},\n",
    "                {\"label\": \"y\",\n",
    "                    \"stroke\": \"red\",\n",
    "                    \"points\": { \"space\": 0, \"size\": 10},\n",
    "                },\n",
    "            ],\n",
    "        };\n",
    "'''\n"
   ]
  },
  {
   "cell_type": "code",
   "execution_count": 95,
   "metadata": {},
   "outputs": [
    {
     "name": "stdout",
     "output_type": "stream",
     "text": [
      "\n",
      "        {\n",
      "            \"title\": \"\",\n",
      "            \"width\": 750,\n",
      "            \"height\": 300,\n",
      "            \"scales\": {\n",
      "                \"x\": {\n",
      "                    \"time\": false,\n",
      "                },\n",
      "                \"y\": {\n",
      "                    \"auto\": true,\n",
      "                },\n",
      "            },\n",
      "            \"series\": [\n",
      "                {\"label\":\"x\"},\n",
      "                {\"label\": \"y\",\n",
      "                    \"stroke\": \"red\",\n",
      "                    \"points\": { \"space\": 0, \"size\": 10},\n",
      "                },\n",
      "            ],\n",
      "        };\n",
      "\n"
     ]
    }
   ],
   "source": [
    "print(options)"
   ]
  },
  {
   "cell_type": "code",
   "execution_count": 97,
   "metadata": {},
   "outputs": [
    {
     "data": {
      "text/html": [
       "<iframe srcdoc=\"\n",
       "        <link rel='stylesheet' href='https://leeoniya.github.io/uPlot/dist/uPlot.min.css'>\n",
       "        <script src='https://leeoniya.github.io/uPlot/dist/uPlot.iife.js'></script>\n",
       "        \n",
       "        <div id='plot'></div>\n",
       "\n",
       "        <script>\n",
       "        data = [[1, 2, 3], [4, 5, 6]]\n",
       "        options = \n",
       "        {\n",
       "            'title': '',\n",
       "            'width': 750,\n",
       "            'height': 300,\n",
       "            'scales': {\n",
       "                'x': {\n",
       "                    'time': false,\n",
       "                },\n",
       "                'y': {\n",
       "                    'auto': true,\n",
       "                },\n",
       "            },\n",
       "            'series': [\n",
       "                {'label':'x'},\n",
       "                {'label': 'y',\n",
       "                    'stroke': 'red',\n",
       "                    'points': { 'space': 0, 'size': 10},\n",
       "                },\n",
       "            ],\n",
       "        };\n",
       ";\n",
       "        for (i=1; i<data.length; i++) {\n",
       "            options['series'][i]['paths'] = u => null;\n",
       "        }\n",
       "        u2 = new uPlot(options, data, document.getElementById('plot'))\n",
       "        </script>\" src=\"\" \n",
       "                width=800 height=\"400\" frameborder=\"0\" sandbox=\"allow-scripts\">\n",
       "                </iframe>"
      ],
      "text/plain": [
       "<IPython.core.display.HTML object>"
      ]
     },
     "execution_count": 97,
     "metadata": {},
     "output_type": "execute_result"
    }
   ],
   "source": [
    "uplot_data([[1,2,3],[4,5,6]],options, html=False)"
   ]
  },
  {
   "cell_type": "code",
   "execution_count": 99,
   "metadata": {},
   "outputs": [
    {
     "ename": "JSONDecodeError",
     "evalue": "Expecting property name enclosed in double quotes: line 9 column 17 (char 187)",
     "output_type": "error",
     "traceback": [
      "\u001b[0;31m---------------------------------------------------------------------------\u001b[0m",
      "\u001b[0;31mJSONDecodeError\u001b[0m                           Traceback (most recent call last)",
      "\u001b[0;32m<ipython-input-99-0b30bee3d7a5>\u001b[0m in \u001b[0;36m<module>\u001b[0;34m\u001b[0m\n\u001b[0;32m----> 1\u001b[0;31m \u001b[0mjson\u001b[0m\u001b[0;34m.\u001b[0m\u001b[0mloads\u001b[0m\u001b[0;34m(\u001b[0m\u001b[0moptions\u001b[0m\u001b[0;34m)\u001b[0m\u001b[0;34m\u001b[0m\u001b[0;34m\u001b[0m\u001b[0m\n\u001b[0m",
      "\u001b[0;32m~/anaconda3/envs/py37/lib/python3.7/json/__init__.py\u001b[0m in \u001b[0;36mloads\u001b[0;34m(s, encoding, cls, object_hook, parse_float, parse_int, parse_constant, object_pairs_hook, **kw)\u001b[0m\n\u001b[1;32m    346\u001b[0m             \u001b[0mparse_int\u001b[0m \u001b[0;32mis\u001b[0m \u001b[0;32mNone\u001b[0m \u001b[0;32mand\u001b[0m \u001b[0mparse_float\u001b[0m \u001b[0;32mis\u001b[0m \u001b[0;32mNone\u001b[0m \u001b[0;32mand\u001b[0m\u001b[0;34m\u001b[0m\u001b[0;34m\u001b[0m\u001b[0m\n\u001b[1;32m    347\u001b[0m             parse_constant is None and object_pairs_hook is None and not kw):\n\u001b[0;32m--> 348\u001b[0;31m         \u001b[0;32mreturn\u001b[0m \u001b[0m_default_decoder\u001b[0m\u001b[0;34m.\u001b[0m\u001b[0mdecode\u001b[0m\u001b[0;34m(\u001b[0m\u001b[0ms\u001b[0m\u001b[0;34m)\u001b[0m\u001b[0;34m\u001b[0m\u001b[0;34m\u001b[0m\u001b[0m\n\u001b[0m\u001b[1;32m    349\u001b[0m     \u001b[0;32mif\u001b[0m \u001b[0mcls\u001b[0m \u001b[0;32mis\u001b[0m \u001b[0;32mNone\u001b[0m\u001b[0;34m:\u001b[0m\u001b[0;34m\u001b[0m\u001b[0;34m\u001b[0m\u001b[0m\n\u001b[1;32m    350\u001b[0m         \u001b[0mcls\u001b[0m \u001b[0;34m=\u001b[0m \u001b[0mJSONDecoder\u001b[0m\u001b[0;34m\u001b[0m\u001b[0;34m\u001b[0m\u001b[0m\n",
      "\u001b[0;32m~/anaconda3/envs/py37/lib/python3.7/json/decoder.py\u001b[0m in \u001b[0;36mdecode\u001b[0;34m(self, s, _w)\u001b[0m\n\u001b[1;32m    335\u001b[0m \u001b[0;34m\u001b[0m\u001b[0m\n\u001b[1;32m    336\u001b[0m         \"\"\"\n\u001b[0;32m--> 337\u001b[0;31m         \u001b[0mobj\u001b[0m\u001b[0;34m,\u001b[0m \u001b[0mend\u001b[0m \u001b[0;34m=\u001b[0m \u001b[0mself\u001b[0m\u001b[0;34m.\u001b[0m\u001b[0mraw_decode\u001b[0m\u001b[0;34m(\u001b[0m\u001b[0ms\u001b[0m\u001b[0;34m,\u001b[0m \u001b[0midx\u001b[0m\u001b[0;34m=\u001b[0m\u001b[0m_w\u001b[0m\u001b[0;34m(\u001b[0m\u001b[0ms\u001b[0m\u001b[0;34m,\u001b[0m \u001b[0;36m0\u001b[0m\u001b[0;34m)\u001b[0m\u001b[0;34m.\u001b[0m\u001b[0mend\u001b[0m\u001b[0;34m(\u001b[0m\u001b[0;34m)\u001b[0m\u001b[0;34m)\u001b[0m\u001b[0;34m\u001b[0m\u001b[0;34m\u001b[0m\u001b[0m\n\u001b[0m\u001b[1;32m    338\u001b[0m         \u001b[0mend\u001b[0m \u001b[0;34m=\u001b[0m \u001b[0m_w\u001b[0m\u001b[0;34m(\u001b[0m\u001b[0ms\u001b[0m\u001b[0;34m,\u001b[0m \u001b[0mend\u001b[0m\u001b[0;34m)\u001b[0m\u001b[0;34m.\u001b[0m\u001b[0mend\u001b[0m\u001b[0;34m(\u001b[0m\u001b[0;34m)\u001b[0m\u001b[0;34m\u001b[0m\u001b[0;34m\u001b[0m\u001b[0m\n\u001b[1;32m    339\u001b[0m         \u001b[0;32mif\u001b[0m \u001b[0mend\u001b[0m \u001b[0;34m!=\u001b[0m \u001b[0mlen\u001b[0m\u001b[0;34m(\u001b[0m\u001b[0ms\u001b[0m\u001b[0;34m)\u001b[0m\u001b[0;34m:\u001b[0m\u001b[0;34m\u001b[0m\u001b[0;34m\u001b[0m\u001b[0m\n",
      "\u001b[0;32m~/anaconda3/envs/py37/lib/python3.7/json/decoder.py\u001b[0m in \u001b[0;36mraw_decode\u001b[0;34m(self, s, idx)\u001b[0m\n\u001b[1;32m    351\u001b[0m         \"\"\"\n\u001b[1;32m    352\u001b[0m         \u001b[0;32mtry\u001b[0m\u001b[0;34m:\u001b[0m\u001b[0;34m\u001b[0m\u001b[0;34m\u001b[0m\u001b[0m\n\u001b[0;32m--> 353\u001b[0;31m             \u001b[0mobj\u001b[0m\u001b[0;34m,\u001b[0m \u001b[0mend\u001b[0m \u001b[0;34m=\u001b[0m \u001b[0mself\u001b[0m\u001b[0;34m.\u001b[0m\u001b[0mscan_once\u001b[0m\u001b[0;34m(\u001b[0m\u001b[0ms\u001b[0m\u001b[0;34m,\u001b[0m \u001b[0midx\u001b[0m\u001b[0;34m)\u001b[0m\u001b[0;34m\u001b[0m\u001b[0;34m\u001b[0m\u001b[0m\n\u001b[0m\u001b[1;32m    354\u001b[0m         \u001b[0;32mexcept\u001b[0m \u001b[0mStopIteration\u001b[0m \u001b[0;32mas\u001b[0m \u001b[0merr\u001b[0m\u001b[0;34m:\u001b[0m\u001b[0;34m\u001b[0m\u001b[0;34m\u001b[0m\u001b[0m\n\u001b[1;32m    355\u001b[0m             \u001b[0;32mraise\u001b[0m \u001b[0mJSONDecodeError\u001b[0m\u001b[0;34m(\u001b[0m\u001b[0;34m\"Expecting value\"\u001b[0m\u001b[0;34m,\u001b[0m \u001b[0ms\u001b[0m\u001b[0;34m,\u001b[0m \u001b[0merr\u001b[0m\u001b[0;34m.\u001b[0m\u001b[0mvalue\u001b[0m\u001b[0;34m)\u001b[0m \u001b[0;32mfrom\u001b[0m \u001b[0;32mNone\u001b[0m\u001b[0;34m\u001b[0m\u001b[0;34m\u001b[0m\u001b[0m\n",
      "\u001b[0;31mJSONDecodeError\u001b[0m: Expecting property name enclosed in double quotes: line 9 column 17 (char 187)"
     ]
    }
   ],
   "source": [
    "json.loads(options)"
   ]
  },
  {
   "cell_type": "code",
   "execution_count": 100,
   "metadata": {},
   "outputs": [
    {
     "name": "stdout",
     "output_type": "stream",
     "text": [
      "\n",
      "        {\n",
      "            \"title\": \"\",\n",
      "            \"width\": 750,\n",
      "            \"height\": 300,\n",
      "            \"scales\": {\n",
      "                \"x\": {\n",
      "                    \"time\": false,\n",
      "                },\n",
      "                \"y\": {\n",
      "                    \"auto\": true,\n",
      "                },\n",
      "            },\n",
      "            \"series\": [\n",
      "                {\"label\":\"x\"},\n",
      "                {\"label\": \"y\",\n",
      "                    \"stroke\": \"red\",\n",
      "                    \"points\": { \"space\": 0, \"size\": 10},\n",
      "                },\n",
      "            ],\n",
      "        };\n",
      "\n"
     ]
    }
   ],
   "source": [
    "print(options)\n"
   ]
  },
  {
   "cell_type": "code",
   "execution_count": 120,
   "metadata": {},
   "outputs": [],
   "source": [
    "options = '''\n",
    "        {\n",
    "            \"title\": \"\",\n",
    "            \"width\": 750,\n",
    "            \"height\": 300,\n",
    "            \"scales\": {\n",
    "                \"x\": {\n",
    "                    \"time\": false\n",
    "                },\n",
    "                \"y\": {\n",
    "                    \"auto\": true\n",
    "                }\n",
    "            },\n",
    "            \"series\": [\n",
    "                {\"label\":\"x\"},\n",
    "                {\"label\": \"y\",\n",
    "                    \"stroke\": \"red\",\n",
    "                    \"points\": { \"space\": 0, \"size\": 10}\n",
    "                }\n",
    "            ]\n",
    "        }\n",
    "            '''"
   ]
  },
  {
   "cell_type": "code",
   "execution_count": 121,
   "metadata": {},
   "outputs": [
    {
     "data": {
      "text/plain": [
       "{'title': '',\n",
       " 'width': 750,\n",
       " 'height': 300,\n",
       " 'scales': {'x': {'time': False}, 'y': {'auto': True}},\n",
       " 'series': [{'label': 'x'},\n",
       "  {'label': 'y', 'stroke': 'red', 'points': {'space': 0, 'size': 10}}]}"
      ]
     },
     "execution_count": 121,
     "metadata": {},
     "output_type": "execute_result"
    }
   ],
   "source": [
    "d = json.loads(options)\n",
    "d"
   ]
  },
  {
   "cell_type": "code",
   "execution_count": 163,
   "metadata": {},
   "outputs": [],
   "source": [
    "d = {'title': '',\n",
    " 'width': 750,\n",
    " 'height': 300,\n",
    " 'scales': {'x': {'time': False}, 'y': {'auto': True}},\n",
    " 'series': [{'label': 'x'}]}"
   ]
  },
  {
   "cell_type": "code",
   "execution_count": 164,
   "metadata": {},
   "outputs": [
    {
     "data": {
      "text/plain": [
       "{'title': '',\n",
       " 'width': 750,\n",
       " 'height': 300,\n",
       " 'scales': {'x': {'time': False}, 'y': {'auto': True}},\n",
       " 'series': [{'label': 'x'},\n",
       "  {'label': 'y0', 'stroke': 'red', 'points': {'space': 0, 'size': 10}},\n",
       "  {'label': 'y1', 'stroke': 'blue', 'points': {'space': 0, 'size': 10}}]}"
      ]
     },
     "execution_count": 164,
     "metadata": {},
     "output_type": "execute_result"
    }
   ],
   "source": [
    "import copy\n",
    "y_series = {'label': 'y', 'stroke': 'red', 'points': {'space': 0, 'size': 10}}\n",
    "y_series['label'] = 'y0'\n",
    "d['series'].append(copy.deepcopy(y_series))\n",
    "y_series['stroke'] = 'blue'\n",
    "y_series['label'] = 'y1'\n",
    "d['series'].append(copy.deepcopy(y_series))\n",
    "d"
   ]
  },
  {
   "cell_type": "code",
   "execution_count": 165,
   "metadata": {},
   "outputs": [
    {
     "data": {
      "text/html": [
       "<iframe srcdoc=\"\n",
       "        <link rel='stylesheet' href='https://leeoniya.github.io/uPlot/dist/uPlot.min.css'>\n",
       "        <script src='https://leeoniya.github.io/uPlot/dist/uPlot.iife.js'></script>\n",
       "        \n",
       "        <div id='plot'></div>\n",
       "\n",
       "        <script>\n",
       "        data = [[1, 2, 3], [4, 5, 6], [7, 8, 9]]\n",
       "        options = {'title': '', 'width': 750, 'height': 300, 'scales': {'x': {'time': false}, 'y': {'auto': true}}, 'series': [{'label': 'x'}, {'label': 'y0', 'stroke': 'red', 'points': {'space': 0, 'size': 10}}, {'label': 'y1', 'stroke': 'blue', 'points': {'space': 0, 'size': 10}}]};\n",
       "        for (i=1; i<data.length; i++) {\n",
       "            options['series'][i]['paths'] = u => null;\n",
       "        }\n",
       "        u2 = new uPlot(options, data, document.getElementById('plot'))\n",
       "        </script>\" src=\"\" \n",
       "                width=800 height=\"400\" frameborder=\"0\" sandbox=\"allow-scripts\">\n",
       "                </iframe>"
      ],
      "text/plain": [
       "<IPython.core.display.HTML object>"
      ]
     },
     "execution_count": 165,
     "metadata": {},
     "output_type": "execute_result"
    }
   ],
   "source": [
    "uplot_data([[1,2,3],[4,5,6],[7,8,9]],json.dumps(d), html=False)"
   ]
  },
  {
   "cell_type": "code",
   "execution_count": 166,
   "metadata": {},
   "outputs": [],
   "source": [
    "!vimr uplot_lib.py\n"
   ]
  },
  {
   "cell_type": "code",
   "execution_count": null,
   "metadata": {},
   "outputs": [],
   "source": []
  }
 ],
 "metadata": {
  "kernelspec": {
   "display_name": "Python 3",
   "language": "python",
   "name": "python3"
  },
  "language_info": {
   "codemirror_mode": {
    "name": "ipython",
    "version": 3
   },
   "file_extension": ".py",
   "mimetype": "text/x-python",
   "name": "python",
   "nbconvert_exporter": "python",
   "pygments_lexer": "ipython3",
   "version": "3.7.7"
  }
 },
 "nbformat": 4,
 "nbformat_minor": 4
}
