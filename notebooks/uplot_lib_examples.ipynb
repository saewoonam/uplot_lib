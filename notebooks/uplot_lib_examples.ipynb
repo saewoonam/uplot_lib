{
 "cells": [
  {
   "cell_type": "code",
   "execution_count": 1,
   "metadata": {},
   "outputs": [],
   "source": [
    "import uplot_lib\n",
    "from uplot_lib import uplot_data, uplot_scatter, uplot_multixy\n"
   ]
  },
  {
   "cell_type": "markdown",
   "metadata": {},
   "source": [
    "## This is a simple example\n",
    "First parameter is the data to be plotted.   It needs to be a list of list of numbers.  The first list of numbers is the x-axis values.   The following lists are the corresponding y values for each x-value"
   ]
  },
  {
   "cell_type": "code",
   "execution_count": 2,
   "metadata": {},
   "outputs": [
    {
     "name": "stderr",
     "output_type": "stream",
     "text": [
      "/Users/nams/anaconda3/envs/uplot_test/lib/python3.7/site-packages/IPython/core/display.py:717: UserWarning: Consider using IPython.display.IFrame instead\n",
      "  warnings.warn(\"Consider using IPython.display.IFrame instead\")\n"
     ]
    },
    {
     "data": {
      "text/html": [
       "<iframe srcdoc=\"\n",
       "        <link rel='stylesheet' href='https://leeoniya.github.io/uPlot/dist/uPlot.min.css'>\n",
       "        <script src='https://leeoniya.github.io/uPlot/dist/uPlot.iife.js'></script>\n",
       "\n",
       "        <div id='plot'></div>\n",
       "\n",
       "        <script>\n",
       "        data = [[1, 2, 3], [4, 5, 6], [7, 8, 9]]\n",
       "        options = {'title': 'first example', 'width': 750, 'height': 300, 'scales': {'x': {'time': false}, 'y': {'auto': true}}, 'series': [{'label': 'x'}, {'label': 'label 1', 'stroke': 'indigo', 'points': {'space': 0, 'size': 10}}, {'label': 'label 2', 'stroke': 'purple', 'points': {'space': 0, 'size': 10}}]};\n",
       "\n",
       "        if (typeof options.scatter == 'undefined') {\n",
       "            options.scatter = false\n",
       "        }\n",
       "        if (options.scatter) {\n",
       "            for (i=1; i<data.length; i++) {\n",
       "                options['series'][i]['paths'] = u => null;\n",
       "            }\n",
       "        }\n",
       "        u2 = new uPlot(options, data, document.getElementById('plot'))\n",
       "        </script>\" src=\"\" \n",
       "                width=800 height=\"400\" frameborder=\"0\" sandbox=\"allow-scripts\">\n",
       "                </iframe>"
      ],
      "text/plain": [
       "<IPython.core.display.HTML object>"
      ]
     },
     "execution_count": 2,
     "metadata": {},
     "output_type": "execute_result"
    }
   ],
   "source": [
    "uplot_data([[1,2,3],[4,5,6],[7,8,9]],['label 1', 'label 2'], size=10, title='first example')"
   ]
  },
  {
   "cell_type": "code",
   "execution_count": 3,
   "metadata": {},
   "outputs": [
    {
     "data": {
      "text/html": [
       "<iframe srcdoc=\"\n",
       "        <link rel='stylesheet' href='https://leeoniya.github.io/uPlot/dist/uPlot.min.css'>\n",
       "        <script src='https://leeoniya.github.io/uPlot/dist/uPlot.iife.js'></script>\n",
       "\n",
       "        <div id='plot'></div>\n",
       "\n",
       "        <script>\n",
       "        data = [[1, 2, 3, 4], [4, null, 6, 7], [7, 8, 9, 10]]\n",
       "        options = {'title': 'hello', 'width': 750, 'height': 300, 'scales': {'x': {'time': false}, 'y': {'auto': true}}, 'series': [{'label': 'x'}, {'label': 'b', 'stroke': 'indigo', 'points': {'space': 0, 'size': 10}}, {'label': 'y_0', 'stroke': 'purple', 'points': {'space': 0, 'size': 10}}], 'scatter': true};\n",
       "\n",
       "        if (typeof options.scatter == 'undefined') {\n",
       "            options.scatter = false\n",
       "        }\n",
       "        if (options.scatter) {\n",
       "            for (i=1; i<data.length; i++) {\n",
       "                options['series'][i]['paths'] = u => null;\n",
       "            }\n",
       "        }\n",
       "        u2 = new uPlot(options, data, document.getElementById('plot'))\n",
       "        </script>\" src=\"\" \n",
       "                width=800 height=\"400\" frameborder=\"0\" sandbox=\"allow-scripts\">\n",
       "                </iframe>"
      ],
      "text/plain": [
       "<IPython.core.display.HTML object>"
      ]
     },
     "execution_count": 3,
     "metadata": {},
     "output_type": "execute_result"
    }
   ],
   "source": [
    "uplot_scatter([[1,2,3,4],[4,None,6, 7],[7, 8, 9, 10]], ['b'], size=10, title='hello')"
   ]
  },
  {
   "cell_type": "code",
   "execution_count": 4,
   "metadata": {},
   "outputs": [
    {
     "data": {
      "text/html": [
       "<iframe srcdoc=\"\n",
       "        <link rel='stylesheet' href='https://leeoniya.github.io/uPlot/dist/uPlot.min.css'>\n",
       "        <script src='https://leeoniya.github.io/uPlot/dist/uPlot.iife.js'></script>\n",
       "\n",
       "        <div id='plot'></div>\n",
       "\n",
       "        <script>\n",
       "        data = [[1, 2, 3, 4], [4, null, 6, 7], [7, 8, 9, 10]]\n",
       "        options = {'title': 'hello', 'width': 750, 'height': 300, 'scales': {'x': {'time': false}, 'y': {'auto': true}}, 'series': [{'label': 'x'}, {'label': 'b', 'stroke': 'indigo', 'points': {'space': 0, 'size': 10}}, {'label': 'y_0', 'stroke': 'purple', 'points': {'space': 0, 'size': 10}}]};\n",
       "\n",
       "        if (typeof options.scatter == 'undefined') {\n",
       "            options.scatter = false\n",
       "        }\n",
       "        if (options.scatter) {\n",
       "            for (i=1; i<data.length; i++) {\n",
       "                options['series'][i]['paths'] = u => null;\n",
       "            }\n",
       "        }\n",
       "        u2 = new uPlot(options, data, document.getElementById('plot'))\n",
       "        </script>\" src=\"\" \n",
       "                width=800 height=\"400\" frameborder=\"0\" sandbox=\"allow-scripts\">\n",
       "                </iframe>"
      ],
      "text/plain": [
       "<IPython.core.display.HTML object>"
      ]
     },
     "execution_count": 4,
     "metadata": {},
     "output_type": "execute_result"
    }
   ],
   "source": [
    "uplot_data([[1,2,3,4],[4,None,6, 7],[7, 8, 9, 10]], ['b'], size=10, title='hello')"
   ]
  },
  {
   "cell_type": "markdown",
   "metadata": {},
   "source": [
    "## This is an example of the x-axis being timestamps"
   ]
  },
  {
   "cell_type": "code",
   "execution_count": 5,
   "metadata": {},
   "outputs": [],
   "source": [
    "import time\n",
    "\n",
    "offset = time.time()\n",
    "\n",
    "x = [offset + count for count in range(4)]\n",
    "y = [[1,2,3,4],[4,None,6, 7],[7, 8, 9, 10]]\n",
    "y.insert(0, x)\n",
    "data = y"
   ]
  },
  {
   "cell_type": "code",
   "execution_count": 6,
   "metadata": {},
   "outputs": [
    {
     "data": {
      "text/html": [
       "<iframe srcdoc=\"\n",
       "        <link rel='stylesheet' href='https://leeoniya.github.io/uPlot/dist/uPlot.min.css'>\n",
       "        <script src='https://leeoniya.github.io/uPlot/dist/uPlot.iife.js'></script>\n",
       "\n",
       "        <div id='plot'></div>\n",
       "\n",
       "        <script>\n",
       "        data = [[1605211659.904573, 1605211660.904573, 1605211661.904573, 1605211662.904573], [1, 2, 3, 4], [4, null, 6, 7], [7, 8, 9, 10]]\n",
       "        options = {'title': '', 'width': 750, 'height': 300, 'scales': {'x': {'time': true}, 'y': {'auto': true}}, 'series': [{'label': 'x'}, {'label': 'y_0', 'stroke': 'indigo', 'points': {'space': 0, 'size': 10}}, {'label': 'y_1', 'stroke': 'purple', 'points': {'space': 0, 'size': 10}}, {'label': 'y_2', 'stroke': 'darkmagenta', 'points': {'space': 0, 'size': 10}}]};\n",
       "\n",
       "        if (typeof options.scatter == 'undefined') {\n",
       "            options.scatter = false\n",
       "        }\n",
       "        if (options.scatter) {\n",
       "            for (i=1; i<data.length; i++) {\n",
       "                options['series'][i]['paths'] = u => null;\n",
       "            }\n",
       "        }\n",
       "        u2 = new uPlot(options, data, document.getElementById('plot'))\n",
       "        </script>\" src=\"\" \n",
       "                width=800 height=\"400\" frameborder=\"0\" sandbox=\"allow-scripts\">\n",
       "                </iframe>"
      ],
      "text/plain": [
       "<IPython.core.display.HTML object>"
      ]
     },
     "execution_count": 6,
     "metadata": {},
     "output_type": "execute_result"
    }
   ],
   "source": [
    "uplot_data(data, size=10, scales={'x': {'time': True}, 'y': {'auto': True}})"
   ]
  },
  {
   "cell_type": "code",
   "execution_count": null,
   "metadata": {},
   "outputs": [],
   "source": [
    "data"
   ]
  },
  {
   "cell_type": "markdown",
   "metadata": {},
   "source": [
    "##  Example showing that you can plot lots of points without much lag...\n",
    "### Much better than matplotlib and plotly... You can still zoom with the mouse"
   ]
  },
  {
   "cell_type": "code",
   "execution_count": null,
   "metadata": {},
   "outputs": [],
   "source": [
    "import numpy as np\n",
    "\n",
    "num_pts = 100000\n",
    "data = [list(range(num_pts))]\n",
    "for i in range(5):\n",
    "    data.append( list(np.random.random(num_pts)))\n"
   ]
  },
  {
   "cell_type": "code",
   "execution_count": null,
   "metadata": {},
   "outputs": [],
   "source": [
    "uplot_data(data)"
   ]
  },
  {
   "cell_type": "code",
   "execution_count": null,
   "metadata": {},
   "outputs": [],
   "source": [
    "uplot_scatter(data)"
   ]
  },
  {
   "cell_type": "code",
   "execution_count": null,
   "metadata": {},
   "outputs": [],
   "source": [
    "data_in = [\n",
    "            [1, 3, 5],  # first list of x values\n",
    "            [5, 6, 7],  # first list of y values\n",
    "            [2, 4, 6, 8, 10],  # 2nd list of x\n",
    "            [8, 9, 10, 11, 12] # 2nd list of y\n",
    "          ]\n",
    "uplot_multixy(data_in, ['b', 'a'], html=False, size=10)"
   ]
  },
  {
   "cell_type": "code",
   "execution_count": null,
   "metadata": {},
   "outputs": [],
   "source": []
  }
 ],
 "metadata": {
  "kernelspec": {
   "display_name": "Python 3",
   "language": "python",
   "name": "python3"
  },
  "language_info": {
   "codemirror_mode": {
    "name": "ipython",
    "version": 3
   },
   "file_extension": ".py",
   "mimetype": "text/x-python",
   "name": "python",
   "nbconvert_exporter": "python",
   "pygments_lexer": "ipython3",
   "version": "3.7.9"
  }
 },
 "nbformat": 4,
 "nbformat_minor": 4
}
